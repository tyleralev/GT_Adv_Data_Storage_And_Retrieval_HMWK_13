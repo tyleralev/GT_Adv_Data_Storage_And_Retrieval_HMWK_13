{
 "cells": [
  {
   "cell_type": "code",
   "execution_count": 24,
   "metadata": {},
   "outputs": [],
   "source": [
    "#import dependencies\n",
    "from splinter import Browser\n",
    "from bs4 import BeautifulSoup"
   ]
  },
  {
   "cell_type": "code",
   "execution_count": 25,
   "metadata": {},
   "outputs": [
    {
     "name": "stderr",
     "output_type": "stream",
     "text": [
      "which: no chromedriver in (/c/Anaconda/DLLs:/c/Users/Owner/bin:/mingw64/bin:/usr/local/bin:/usr/bin:/usr/bin:/mingw64/bin:/usr/bin:/c/Users/Owner/bin:/c/Program Files (x86)/Intel/iCLS Client:/c/Program Files/Intel/iCLS Client:/c/WINDOWS/system32:/c/WINDOWS:/c/WINDOWS/System32/Wbem:/c/WINDOWS/System32/WindowsPowerShell/v1.0:/c/WINDOWS/System32/OpenSSH:/c/Program Files (x86)/Intel/Intel(R) Management Engine Components/DAL:/c/Program Files/Intel/Intel(R) Management Engine Components/DAL:/c/Program Files (x86)/Intel/Intel(R) Management Engine Components/IPT:/c/Program Files/Intel/Intel(R) Management Engine Components/IPT:/c/Program Files/Crucial/Crucial Storage Executive:/c/Program Files/Microsoft SQL Server/110/Tools/Binn:/cmd:/c/Program Files/Microsoft VS Code/bin:/c/Program Files/MySQL/MySQL Utilities 1.6:/c/Program Files/MongoDB/Server/4.0/bin:/c/Program Files/Intel/WiFi/bin:/c/Program Files/Common Files/Intel/WirelessCommon:/c/Program Files (x86)/PDFtk/bin:/c/Anaconda:/c/Anaconda/Library/mingw-w64/bin:/c/Anaconda/Library/usr/bin:/c/Anaconda/Library/bin:/c/Anaconda/Scripts:/c/Users/Owner/AppData/Local/Microsoft/WindowsApps:/c/Program Files/heroku/bin:/c/Users/Owner/AppData/Roaming/Microsoft/Windows/Start Menu/Programs/Anaconda3 (64-bit):/c/Users/Owner/AppData/Local/Programs/Microsoft VS Code/bin:/c/Program Files/Intel/WiFi/bin:/c/Program Files/Common Files/Intel/WirelessCommon:/c/Users/Owner/AppData/Local/atom/bin:%USERPROFILE%/AppData/Local/Microsoft/WindowsApps:/usr/bin/vendor_perl:/usr/bin/core_perl)\n"
     ]
    }
   ],
   "source": [
    "#chrome driver path\n",
    "!which chromedriver\n",
    "## have questions on this"
   ]
  },
  {
   "cell_type": "code",
   "execution_count": 26,
   "metadata": {},
   "outputs": [],
   "source": [
    "#Set path for chromedriver and started chrome browser in splinter\n",
    "executable_path = {'executable_path': 'chromedriver'}\n",
    "browser = Browser('chrome', **executable_path)"
   ]
  },
  {
   "cell_type": "markdown",
   "metadata": {},
   "source": [
    "## Visiting the Nasa Mars News Site\n"
   ]
  },
  {
   "cell_type": "code",
   "execution_count": 27,
   "metadata": {},
   "outputs": [],
   "source": [
    "#visit the nasa mars site\n",
    "url = 'https://mars.nasa.gov/news/'\n",
    "browser.visit(url)\n",
    "\n",
    "#can create delay for loading web page if wanted\n",
    "#browser.is_element_present_by_css(\"ul.item_list li.slide\", wait_time=1)"
   ]
  },
  {
   "cell_type": "code",
   "execution_count": 28,
   "metadata": {},
   "outputs": [],
   "source": [
    "#convert the browser.html to a soup object\n",
    "html = browser.html\n",
    "mars_news_soup = BeautifulSoup(html, 'html.parser')\n",
    "\n",
    "slide_elem = mars_news_soup.select_one('ul.item_list li.slide')"
   ]
  },
  {
   "cell_type": "code",
   "execution_count": 29,
   "metadata": {},
   "outputs": [
    {
     "data": {
      "text/plain": [
       "<div class=\"content_title\"><a href=\"/news/8402/nasas-insight-places-first-instrument-on-mars/\" target=\"_self\">NASA's InSight Places First Instrument on Mars</a></div>"
      ]
     },
     "execution_count": 29,
     "metadata": {},
     "output_type": "execute_result"
    }
   ],
   "source": [
    "slide_elem.find(\"div\", class_=\"content_title\")"
   ]
  },
  {
   "cell_type": "code",
   "execution_count": 30,
   "metadata": {},
   "outputs": [
    {
     "data": {
      "text/plain": [
       "\"NASA's InSight Places First Instrument on Mars\""
      ]
     },
     "execution_count": 30,
     "metadata": {},
     "output_type": "execute_result"
    }
   ],
   "source": [
    "#Using parent element to find the first a tag and it to the variable \"news_title\"\n",
    "news_title = slide_elem.find(\"div\", class_=\"content_title\").get_text()\n",
    "news_title"
   ]
  },
  {
   "cell_type": "code",
   "execution_count": 31,
   "metadata": {},
   "outputs": [
    {
     "data": {
      "text/plain": [
       "'In deploying its first instrument onto the surface of Mars, the lander completes a major mission milestone.'"
      ]
     },
     "execution_count": 31,
     "metadata": {},
     "output_type": "execute_result"
    }
   ],
   "source": [
    "#Use the parent element to find the text in the paragraph tag\n",
    "news_headline = slide_elem.find(\"div\", class_=\"article_teaser_body\").get_text()\n",
    "news_headline"
   ]
  },
  {
   "cell_type": "markdown",
   "metadata": {},
   "source": [
    "## JPL SPACE IMAGES - FEATURED IMAGE\n"
   ]
  },
  {
   "cell_type": "code",
   "execution_count": null,
   "metadata": {},
   "outputs": [],
   "source": [
    "#visit URL\n",
    "url = 'https://www.jpl.nasa.gov/spaceimages/?search=&category=Mars'\n",
    "browser.visit(url)"
   ]
  },
  {
   "cell_type": "code",
   "execution_count": null,
   "metadata": {},
   "outputs": [],
   "source": [
    "#Find and click on the full image button\n",
    "full_image_elem = browser.find_by_id('full_image')\n",
    "full_image_elem.click()"
   ]
  },
  {
   "cell_type": "code",
   "execution_count": null,
   "metadata": {},
   "outputs": [],
   "source": [
    "#Finding the more info button (the first one doesn't work, but by running both one of them can find the 'more info' button)\n",
    "browser.is_element_present_by_text('more info', wait_time=1)\n",
    "more_info_elem = browser.find_link_by_partial_text('more info')\n",
    "more_info_elem.click()"
   ]
  },
  {
   "cell_type": "code",
   "execution_count": null,
   "metadata": {},
   "outputs": [],
   "source": [
    "#parsing the new html site we passed onto by clicking the more info button\n",
    "html = browser.html\n",
    "img_soup = BeautifulSoup(html, 'html.parser')"
   ]
  },
  {
   "cell_type": "code",
   "execution_count": null,
   "metadata": {},
   "outputs": [],
   "source": [
    "#find the images source url\n",
    "img_src_url = img_soup.select_one('figure.lede a img').get('src')\n",
    "img_src_url"
   ]
  },
  {
   "cell_type": "code",
   "execution_count": null,
   "metadata": {},
   "outputs": [],
   "source": [
    "image_url = f'https://www.jpl.nasa.gov{img_src_url}'\n",
    "image_url"
   ]
  },
  {
   "cell_type": "markdown",
   "metadata": {},
   "source": [
    "## MARS WEATHER"
   ]
  },
  {
   "cell_type": "code",
   "execution_count": 6,
   "metadata": {},
   "outputs": [],
   "source": [
    "#Going to this url\n",
    "url = 'https://twitter.com/marswxreport?lang=en'\n",
    "browser.visit(url)"
   ]
  },
  {
   "cell_type": "code",
   "execution_count": 7,
   "metadata": {},
   "outputs": [],
   "source": [
    "#parsing the html with BeautifulSoup\n",
    "html = browser.html\n",
    "weather_soup = BeautifulSoup(html, 'html.parser')"
   ]
  },
  {
   "cell_type": "code",
   "execution_count": 11,
   "metadata": {},
   "outputs": [
    {
     "data": {
      "text/plain": [
       "<div class=\"tweet js-stream-tweet js-actionable-tweet js-profile-popup-actionable dismissible-content original-tweet js-original-tweet \" data-conversation-id=\"1081393740131024896\" data-disclosure-type=\"\" data-follows-you=\"false\" data-item-id=\"1081393740131024896\" data-name=\"Mars Weather\" data-permalink-path=\"/MarsWxReport/status/1081393740131024896\" data-reply-to-users-json='[{\"id_str\":\"786939553\",\"screen_name\":\"MarsWxReport\",\"name\":\"Mars Weather\",\"emojified_name\":{\"text\":\"Mars Weather\",\"emojified_text_as_html\":\"Mars Weather\"}}]' data-screen-name=\"MarsWxReport\" data-tweet-id=\"1081393740131024896\" data-tweet-nonce=\"1081393740131024896-6c5d2581-fd3e-491c-968f-194ecd6bfb7b\" data-tweet-stat-initialized=\"true\" data-user-id=\"786939553\" data-you-block=\"false\" data-you-follow=\"false\">\n",
       "<div class=\"context\">\n",
       "</div>\n",
       "<div class=\"content\">\n",
       "<div class=\"stream-item-header\">\n",
       "<a class=\"account-group js-account-group js-action-profile js-user-profile-link js-nav\" data-user-id=\"786939553\" href=\"/MarsWxReport\">\n",
       "<img alt=\"\" class=\"avatar js-action-profile-avatar\" src=\"https://pbs.twimg.com/profile_images/2552209293/220px-Mars_atmosphere_bigger.jpg\"/>\n",
       "<span class=\"FullNameGroup\">\n",
       "<strong class=\"fullname show-popup-with-id u-textTruncate \" data-aria-label-part=\"\">Mars Weather</strong><span>‏</span><span class=\"UserBadges\"></span><span class=\"UserNameBreak\"> </span></span><span class=\"username u-dir u-textTruncate\" data-aria-label-part=\"\" dir=\"ltr\">@<b>MarsWxReport</b></span></a>\n",
       "<small class=\"time\">\n",
       "<a class=\"tweet-timestamp js-permalink js-nav js-tooltip\" data-conversation-id=\"1081393740131024896\" href=\"/MarsWxReport/status/1081393740131024896\" title=\"7:35 PM - 4 Jan 2019\"><span class=\"_timestamp js-short-timestamp \" data-aria-label-part=\"last\" data-long-form=\"true\" data-time=\"1546659333\" data-time-ms=\"1546659333000\">Jan 4</span></a>\n",
       "</small>\n",
       "<div class=\"ProfileTweet-action ProfileTweet-action--more js-more-ProfileTweet-actions\">\n",
       "<div class=\"dropdown\">\n",
       "<button aria-haspopup=\"true\" class=\"ProfileTweet-actionButton u-textUserColorHover dropdown-toggle js-dropdown-toggle\" type=\"button\">\n",
       "<div class=\"IconContainer js-tooltip\" title=\"More\">\n",
       "<span class=\"Icon Icon--caretDownLight Icon--small\"></span>\n",
       "<span class=\"u-hiddenVisually\">More</span>\n",
       "</div>\n",
       "</button>\n",
       "<div class=\"dropdown-menu is-autoCentered\">\n",
       "<div class=\"dropdown-caret\">\n",
       "<div class=\"caret-outer\"></div>\n",
       "<div class=\"caret-inner\"></div>\n",
       "</div>\n",
       "<ul>\n",
       "<li class=\"copy-link-to-tweet js-actionCopyLinkToTweet\">\n",
       "<button class=\"dropdown-link\" type=\"button\">Copy link to Tweet</button>\n",
       "</li>\n",
       "<li class=\"embed-link js-actionEmbedTweet\" data-nav=\"embed_tweet\">\n",
       "<button class=\"dropdown-link\" type=\"button\">Embed Tweet</button>\n",
       "</li>\n",
       "</ul>\n",
       "</div>\n",
       "</div>\n",
       "</div>\n",
       "</div>\n",
       "<div class=\"js-tweet-text-container\">\n",
       "<p class=\"TweetTextSize TweetTextSize--normal js-tweet-text tweet-text\" data-aria-label-part=\"0\" lang=\"en\">Sol 2278 (2019-01-02), high -5C/23F, low -71C/-95F, pressure at 8.28 hPa, daylight 06:43-18:54</p>\n",
       "</div>\n",
       "<div class=\"stream-item-footer\">\n",
       "<div class=\"ProfileTweet-actionCountList u-hiddenVisually\">\n",
       "<span class=\"ProfileTweet-action--reply u-hiddenVisually\">\n",
       "<span class=\"ProfileTweet-actionCount\" data-tweet-stat-count=\"1\">\n",
       "<span class=\"ProfileTweet-actionCountForAria\" data-aria-label-part=\"\" id=\"profile-tweet-action-reply-count-aria-1081393740131024896\">1 reply</span>\n",
       "</span>\n",
       "</span>\n",
       "<span class=\"ProfileTweet-action--retweet u-hiddenVisually\">\n",
       "<span class=\"ProfileTweet-actionCount\" data-tweet-stat-count=\"6\">\n",
       "<span class=\"ProfileTweet-actionCountForAria\" data-aria-label-part=\"\" id=\"profile-tweet-action-retweet-count-aria-1081393740131024896\">6 retweets</span>\n",
       "</span>\n",
       "</span>\n",
       "<span class=\"ProfileTweet-action--favorite u-hiddenVisually\">\n",
       "<span class=\"ProfileTweet-actionCount\" data-tweet-stat-count=\"14\">\n",
       "<span class=\"ProfileTweet-actionCountForAria\" data-aria-label-part=\"\" id=\"profile-tweet-action-favorite-count-aria-1081393740131024896\">14 likes</span>\n",
       "</span>\n",
       "</span>\n",
       "</div>\n",
       "<div aria-label=\"Tweet actions\" class=\"ProfileTweet-actionList js-actions\" role=\"group\">\n",
       "<div class=\"ProfileTweet-action ProfileTweet-action--reply\">\n",
       "<button aria-describedby=\"profile-tweet-action-reply-count-aria-1081393740131024896\" class=\"ProfileTweet-actionButton js-actionButton js-actionReply\" data-modal=\"ProfileTweet-reply\" type=\"button\">\n",
       "<div class=\"IconContainer js-tooltip\" title=\"Reply\">\n",
       "<span class=\"Icon Icon--medium Icon--reply\"></span>\n",
       "<span class=\"u-hiddenVisually\">Reply</span>\n",
       "</div>\n",
       "<span class=\"ProfileTweet-actionCount \">\n",
       "<span aria-hidden=\"true\" class=\"ProfileTweet-actionCountForPresentation\">1</span>\n",
       "</span>\n",
       "</button>\n",
       "</div>\n",
       "<div class=\"ProfileTweet-action ProfileTweet-action--retweet js-toggleState js-toggleRt\">\n",
       "<button aria-describedby=\"profile-tweet-action-retweet-count-aria-1081393740131024896\" class=\"ProfileTweet-actionButton js-actionButton js-actionRetweet\" data-modal=\"ProfileTweet-retweet\" type=\"button\">\n",
       "<div class=\"IconContainer js-tooltip\" title=\"Retweet\">\n",
       "<span class=\"Icon Icon--medium Icon--retweet\"></span>\n",
       "<span class=\"u-hiddenVisually\">Retweet</span>\n",
       "</div>\n",
       "<span class=\"ProfileTweet-actionCount\">\n",
       "<span aria-hidden=\"true\" class=\"ProfileTweet-actionCountForPresentation\">6</span>\n",
       "</span>\n",
       "</button><button class=\"ProfileTweet-actionButtonUndo js-actionButton js-actionRetweet\" data-modal=\"ProfileTweet-retweet\" type=\"button\">\n",
       "<div class=\"IconContainer js-tooltip\" title=\"Undo retweet\">\n",
       "<span class=\"Icon Icon--medium Icon--retweet\"></span>\n",
       "<span class=\"u-hiddenVisually\">Retweeted</span>\n",
       "</div>\n",
       "<span class=\"ProfileTweet-actionCount\">\n",
       "<span aria-hidden=\"true\" class=\"ProfileTweet-actionCountForPresentation\">6</span>\n",
       "</span>\n",
       "</button>\n",
       "</div>\n",
       "<div class=\"ProfileTweet-action ProfileTweet-action--favorite js-toggleState\">\n",
       "<button aria-describedby=\"profile-tweet-action-favorite-count-aria-1081393740131024896\" class=\"ProfileTweet-actionButton js-actionButton js-actionFavorite\" type=\"button\">\n",
       "<div class=\"IconContainer js-tooltip\" title=\"Like\">\n",
       "<span class=\"Icon Icon--heart Icon--medium\" role=\"presentation\"></span>\n",
       "<div class=\"HeartAnimation\"></div>\n",
       "<span class=\"u-hiddenVisually\">Like</span>\n",
       "</div>\n",
       "<span class=\"ProfileTweet-actionCount\">\n",
       "<span aria-hidden=\"true\" class=\"ProfileTweet-actionCountForPresentation\">14</span>\n",
       "</span>\n",
       "</button><button class=\"ProfileTweet-actionButtonUndo ProfileTweet-action--unfavorite u-linkClean js-actionButton js-actionFavorite\" type=\"button\">\n",
       "<div class=\"IconContainer js-tooltip\" title=\"Undo like\">\n",
       "<span class=\"Icon Icon--heart Icon--medium\" role=\"presentation\"></span>\n",
       "<div class=\"HeartAnimation\"></div>\n",
       "<span class=\"u-hiddenVisually\">Liked</span>\n",
       "</div>\n",
       "<span class=\"ProfileTweet-actionCount\">\n",
       "<span aria-hidden=\"true\" class=\"ProfileTweet-actionCountForPresentation\">14</span>\n",
       "</span>\n",
       "</button>\n",
       "</div>\n",
       "</div>\n",
       "</div>\n",
       "</div>\n",
       "</div>"
      ]
     },
     "execution_count": 11,
     "metadata": {},
     "output_type": "execute_result"
    }
   ],
   "source": [
    "# finding a tweet with the data-name 'Mars Weather'\n",
    "mars_weather_tweet = weather_soup.find('div', attrs={\"class\": \"tweet\", \"data-name\": \"Mars Weather\"})\n",
    "mars_weather_tweet"
   ]
  },
  {
   "cell_type": "code",
   "execution_count": 12,
   "metadata": {},
   "outputs": [
    {
     "data": {
      "text/plain": [
       "'Sol 2278 (2019-01-02), high -5C/23F, low -71C/-95F, pressure at 8.28 hPa, daylight 06:43-18:54'"
      ]
     },
     "execution_count": 12,
     "metadata": {},
     "output_type": "execute_result"
    }
   ],
   "source": [
    "#getting the weather report text from the tweet\n",
    "mars_weather = mars_weather_tweet.find('p', 'tweet-text').get_text()\n",
    "mars_weather"
   ]
  },
  {
   "cell_type": "code",
   "execution_count": 21,
   "metadata": {},
   "outputs": [],
   "source": [
    "#Going to the astreology url\n",
    "url = 'https://astrogeology.usgs.gov/search/results?q=hemisphere+enhanced&k1=target&v1=Mars'\n",
    "browser.visit(url)"
   ]
  },
  {
   "cell_type": "code",
   "execution_count": 22,
   "metadata": {},
   "outputs": [],
   "source": [
    "hemi_img_urls = []\n",
    "\n",
    "#getting the list of all the links for hemisphere images\n",
    "links = browser.find_by_css(\"a.product-item h3\")\n",
    "\n",
    "#looping through the links, clic on it and find the sample anchor and then return back\n",
    "for i in range(len(links)):\n",
    "    hemisphere = {}\n",
    "    \n",
    "    #have to find each link to avoid it being stale element exemption\n",
    "    browser.find_by_css(\"a.product-item h3\")[i].click()\n",
    "    \n",
    "    #finding the sample image anchor tag and take the href url\n",
    "    sample_elem = browser.find_link_by_text('Sample').first\n",
    "    hemisphere['img_url'] = sample_elem['href']\n",
    "    \n",
    "    #Get hemisphere title\n",
    "    hemisphere['title'] = browser.find_by_css(\"h2.title\").text\n",
    "    \n",
    "    #Appending the title and image links as an object to the hemi_img_urls list\n",
    "    hemi_img_urls.append(hemisphere)\n",
    "    \n",
    "    #navigate back to the startingg url\n",
    "    browser.back()"
   ]
  },
  {
   "cell_type": "code",
   "execution_count": 23,
   "metadata": {},
   "outputs": [
    {
     "data": {
      "text/plain": [
       "[]"
      ]
     },
     "execution_count": 23,
     "metadata": {},
     "output_type": "execute_result"
    }
   ],
   "source": [
    "hemi_img_urls"
   ]
  },
  {
   "cell_type": "markdown",
   "metadata": {},
   "source": [
    "## Mars Facts"
   ]
  },
  {
   "cell_type": "code",
   "execution_count": 19,
   "metadata": {},
   "outputs": [
    {
     "data": {
      "text/html": [
       "<div>\n",
       "<style scoped>\n",
       "    .dataframe tbody tr th:only-of-type {\n",
       "        vertical-align: middle;\n",
       "    }\n",
       "\n",
       "    .dataframe tbody tr th {\n",
       "        vertical-align: top;\n",
       "    }\n",
       "\n",
       "    .dataframe thead th {\n",
       "        text-align: right;\n",
       "    }\n",
       "</style>\n",
       "<table border=\"1\" class=\"dataframe\">\n",
       "  <thead>\n",
       "    <tr style=\"text-align: right;\">\n",
       "      <th></th>\n",
       "      <th>value</th>\n",
       "    </tr>\n",
       "    <tr>\n",
       "      <th>description</th>\n",
       "      <th></th>\n",
       "    </tr>\n",
       "  </thead>\n",
       "  <tbody>\n",
       "    <tr>\n",
       "      <th>Equatorial Diameter:</th>\n",
       "      <td>6,792 km</td>\n",
       "    </tr>\n",
       "    <tr>\n",
       "      <th>Polar Diameter:</th>\n",
       "      <td>6,752 km</td>\n",
       "    </tr>\n",
       "    <tr>\n",
       "      <th>Mass:</th>\n",
       "      <td>6.42 x 10^23 kg (10.7% Earth)</td>\n",
       "    </tr>\n",
       "    <tr>\n",
       "      <th>Moons:</th>\n",
       "      <td>2 (Phobos &amp; Deimos)</td>\n",
       "    </tr>\n",
       "    <tr>\n",
       "      <th>Orbit Distance:</th>\n",
       "      <td>227,943,824 km (1.52 AU)</td>\n",
       "    </tr>\n",
       "    <tr>\n",
       "      <th>Orbit Period:</th>\n",
       "      <td>687 days (1.9 years)</td>\n",
       "    </tr>\n",
       "    <tr>\n",
       "      <th>Surface Temperature:</th>\n",
       "      <td>-153 to 20 °C</td>\n",
       "    </tr>\n",
       "    <tr>\n",
       "      <th>First Record:</th>\n",
       "      <td>2nd millennium BC</td>\n",
       "    </tr>\n",
       "    <tr>\n",
       "      <th>Recorded By:</th>\n",
       "      <td>Egyptian astronomers</td>\n",
       "    </tr>\n",
       "  </tbody>\n",
       "</table>\n",
       "</div>"
      ],
      "text/plain": [
       "                                              value\n",
       "description                                        \n",
       "Equatorial Diameter:                       6,792 km\n",
       "Polar Diameter:                            6,752 km\n",
       "Mass:                 6.42 x 10^23 kg (10.7% Earth)\n",
       "Moons:                          2 (Phobos & Deimos)\n",
       "Orbit Distance:            227,943,824 km (1.52 AU)\n",
       "Orbit Period:                  687 days (1.9 years)\n",
       "Surface Temperature:                  -153 to 20 °C\n",
       "First Record:                     2nd millennium BC\n",
       "Recorded By:                   Egyptian astronomers"
      ]
     },
     "execution_count": 19,
     "metadata": {},
     "output_type": "execute_result"
    }
   ],
   "source": [
    "import pandas as pd\n",
    "mars_facts_df = pd.read_html('http://space-facts.com/mars/')[0]\n",
    "mars_facts_df.columns = ['description', 'value']\n",
    "mars_facts_df.set_index('description', inplace=True)\n",
    "mars_facts_df"
   ]
  },
  {
   "cell_type": "code",
   "execution_count": 20,
   "metadata": {},
   "outputs": [
    {
     "data": {
      "text/plain": [
       "'<table border=\"1\" class=\"dataframe\">\\n  <thead>\\n    <tr style=\"text-align: right;\">\\n      <th></th>\\n      <th>value</th>\\n    </tr>\\n    <tr>\\n      <th>description</th>\\n      <th></th>\\n    </tr>\\n  </thead>\\n  <tbody>\\n    <tr>\\n      <th>Equatorial Diameter:</th>\\n      <td>6,792 km</td>\\n    </tr>\\n    <tr>\\n      <th>Polar Diameter:</th>\\n      <td>6,752 km</td>\\n    </tr>\\n    <tr>\\n      <th>Mass:</th>\\n      <td>6.42 x 10^23 kg (10.7% Earth)</td>\\n    </tr>\\n    <tr>\\n      <th>Moons:</th>\\n      <td>2 (Phobos &amp; Deimos)</td>\\n    </tr>\\n    <tr>\\n      <th>Orbit Distance:</th>\\n      <td>227,943,824 km (1.52 AU)</td>\\n    </tr>\\n    <tr>\\n      <th>Orbit Period:</th>\\n      <td>687 days (1.9 years)</td>\\n    </tr>\\n    <tr>\\n      <th>Surface Temperature:</th>\\n      <td>-153 to 20 °C</td>\\n    </tr>\\n    <tr>\\n      <th>First Record:</th>\\n      <td>2nd millennium BC</td>\\n    </tr>\\n    <tr>\\n      <th>Recorded By:</th>\\n      <td>Egyptian astronomers</td>\\n    </tr>\\n  </tbody>\\n</table>'"
      ]
     },
     "execution_count": 20,
     "metadata": {},
     "output_type": "execute_result"
    }
   ],
   "source": [
    "mars_facts_df.to_html()"
   ]
  },
  {
   "cell_type": "code",
   "execution_count": null,
   "metadata": {},
   "outputs": [],
   "source": []
  }
 ],
 "metadata": {
  "kernelspec": {
   "display_name": "Python [conda env:Anaconda]",
   "language": "python",
   "name": "conda-env-Anaconda-py"
  }
 },
 "nbformat": 4,
 "nbformat_minor": 2
}
